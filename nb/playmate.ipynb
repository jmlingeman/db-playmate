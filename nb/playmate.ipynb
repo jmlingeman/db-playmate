{
 "cells": [
  {
   "cell_type": "markdown",
   "metadata": {},
   "source": [
    "## Notebook demonstrating usage of db-playmate"
   ]
  },
  {
   "cell_type": "code",
   "execution_count": 2,
   "metadata": {},
   "outputs": [],
   "source": [
    "# install package\n",
    "!pip install db-playmate > /dev/null"
   ]
  },
  {
   "cell_type": "code",
   "execution_count": 3,
   "metadata": {},
   "outputs": [],
   "source": [
    "# imports\n",
    "import db_playmate as dbp\n",
    "from db_playmate import Kobo\n",
    "from db_playmate import get_client as get_box_client\n",
    "import toml\n",
    "from pathlib import Path"
   ]
  },
  {
   "cell_type": "code",
   "execution_count": 4,
   "metadata": {},
   "outputs": [],
   "source": [
    "# Configurations\n",
    "config_filepath = \"../env/config.toml\"\n",
    "configs = toml.load(Path(config_filepath).resolve())\n",
    "bconf = configs.get(\"box\")\n",
    "kconf = configs.get(\"kobo\")"
   ]
  },
  {
   "cell_type": "code",
   "execution_count": 21,
   "metadata": {},
   "outputs": [
    {
     "name": "stderr",
     "output_type": "stream",
     "text": [
      "127.0.0.1 - - [11/Dec/2019 11:15:09] \"GET /?state=box_csrf_token_COKe8JtuGM3efeqM&code=9aJyCw0hmlSFZvLq2upfBCYiDk7YiJtd HTTP/1.1\" 200 -\n",
      "INFO:werkzeug:127.0.0.1 - - [11/Dec/2019 11:15:09] \"GET /?state=box_csrf_token_COKe8JtuGM3efeqM&code=9aJyCw0hmlSFZvLq2upfBCYiDk7YiJtd HTTP/1.1\" 200 -\n",
      "127.0.0.1 - - [11/Dec/2019 11:15:09] \"GET /favicon.ico HTTP/1.1\" 404 -\n",
      "INFO:werkzeug:127.0.0.1 - - [11/Dec/2019 11:15:09] \"GET /favicon.ico HTTP/1.1\" 404 -\n"
     ]
    }
   ],
   "source": [
    "# Create box client\n",
    "client_id = bconf.get(\"client_id\")\n",
    "client_secret = bconf.get(\"client_secret\")\n",
    "try:\n",
    "    box = get_box_client(client_id, client_secret)\n",
    "except Exception as e:\n",
    "    print(\"ERROR: failed to initialize box client.\")\n",
    "    print(e)"
   ]
  },
  {
   "cell_type": "code",
   "execution_count": 25,
   "metadata": {},
   "outputs": [
    {
     "name": "stdout",
     "output_type": "stream",
     "text": [
      "Folder 95423506262 is named kobo\n",
      "Folder 92712762477 is named My Box Notes\n",
      "Folder 95147876740 is named testdir\n",
      "File 554165415788 is named test note.boxnote\n",
      "File 570656443084 is named PLAY Demographic Questionnaire (Spanish).csv\n",
      "File 570659064770 is named PLAY Demographic Questionnaire.csv\n",
      "File 570656837676 is named PLAY Home Questionnaires (12 Bilingual - English).csv\n",
      "File 570660932781 is named PLAY Home Questionnaires (12 Bilingual - Spanish).csv\n",
      "File 570656859137 is named PLAY Home Questionnaires (12 English).csv\n",
      "File 570650137028 is named PLAY Home Questionnaires (18 Bilingual - English).csv\n",
      "File 570657375713 is named PLAY Home Questionnaires (18 Bilingual - Spanish).csv\n",
      "File 570656387925 is named PLAY Home Questionnaires (18 English).csv\n",
      "File 570656321800 is named PLAY Home Questionnaires (24 Bilingual - English).csv\n",
      "File 570656180321 is named PLAY Home Questionnaires (24 Bilingual - Spanish).csv\n",
      "File 570656431283 is named PLAY Home Questionnaires (24 English).csv\n",
      "File 570661988995 is named PLAY ID Generator.csv\n",
      "File 570656836337 is named PLAY Post-Visit Notes.csv\n"
     ]
    }
   ],
   "source": [
    "box.list_folder(box.get_root())\n",
    "folder = box.get_folder(\"kobo\")\n",
    "box.list_folder(folder)"
   ]
  },
  {
   "cell_type": "code",
   "execution_count": 6,
   "metadata": {},
   "outputs": [],
   "source": [
    "# Create kobotoolbox client\n",
    "base_url = kconf.get(\"base_url\")\n",
    "token = kconf.get(\"auth_token\")\n",
    "kobo = Kobo(base_url, token)"
   ]
  },
  {
   "cell_type": "code",
   "execution_count": 19,
   "metadata": {},
   "outputs": [
    {
     "name": "stdout",
     "output_type": "stream",
     "text": [
      "<db_playmate.kobo.submission.Submission object at 0x11665ea90>\n"
     ]
    }
   ],
   "source": [
    "import random\n",
    "rand_sub = None\n",
    "while rand_sub is None:\n",
    "    rand_form_id, rand_form = random.choice(list(kobo.forms.items()))\n",
    "    rand_sub = None if len(rand_form.submissions) == 0 else random.choice(rand_form.submissions)\n",
    "    \n",
    "print(rand_sub)"
   ]
  },
  {
   "cell_type": "code",
   "execution_count": null,
   "metadata": {},
   "outputs": [],
   "source": []
  }
 ],
 "metadata": {
  "kernelspec": {
   "display_name": "Python 3",
   "language": "python",
   "name": "python3"
  },
  "language_info": {
   "codemirror_mode": {
    "name": "ipython",
    "version": 3
   },
   "file_extension": ".py",
   "mimetype": "text/x-python",
   "name": "python",
   "nbconvert_exporter": "python",
   "pygments_lexer": "ipython3",
   "version": "3.7.5"
  }
 },
 "nbformat": 4,
 "nbformat_minor": 2
}
